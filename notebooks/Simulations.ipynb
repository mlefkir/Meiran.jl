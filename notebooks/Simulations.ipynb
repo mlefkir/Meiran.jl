{
 "cells": [
  {
   "cell_type": "code",
   "execution_count": 1,
   "metadata": {},
   "outputs": [],
   "source": [
    "using Meiran\n",
    "using LinearAlgebra\n",
    "using Tonari\n",
    "using Plots\n",
    "using Random\n",
    "\n",
    "rng = MersenneTwister(1234);"
   ]
  },
  {
   "cell_type": "markdown",
   "metadata": {},
   "source": [
    "Define the power spectral densities for the two processes and the cross-spectral density between them "
   ]
  },
  {
   "cell_type": "code",
   "execution_count": 2,
   "metadata": {},
   "outputs": [
    {
     "data": {
      "text/plain": [
       "100"
      ]
     },
     "metadata": {},
     "output_type": "display_data"
    }
   ],
   "source": [
    "p1 = SingleBendingPowerLaw(1.0, 0.30, 4e-2, 3.5)\n",
    "p2 = SingleBendingPowerLaw(1.0, 0.550, 8e-2, 2.95)\n",
    "Δϕ = ConstantTimeLag(5.4)\n",
    "cs = CrossSpectralDensity(p1, p2, Δϕ)\n",
    "\n",
    "T = 150.0\n",
    "Δt = 1.0\n",
    "t = collect(0.0:Δt:T-Δt)\n",
    "S_low, S_high = 5, 5\n",
    "\n",
    "f0, fM = 1 / T / S_low, 1 / (2Δt) * S_high\n",
    "J = 100"
   ]
  },
  {
   "cell_type": "code",
   "execution_count": 4,
   "metadata": {},
   "outputs": [
    {
     "data": {
      "text/plain": [
       "BlockCovarianceMatrix([0.12057264188482204 0.11699276845270255 … 0.0008531520424300245 0.0008792484670302613; 0.11699276845270255 0.12057264188482204 … 0.0008116777501405635 0.0008531520424300245; … ; 0.0008531520424300245 0.0008116777501405635 … 0.12057264188482204 0.11699276845270255; 0.0008792484670302613 0.0008531520424300245 … 0.11699276845270255 0.12057264188482204], [0.10344323746852452 0.12033635533106725 … 0.002084857648477922 0.002001684517981912; 0.08896412289743097 0.10344323746852452 … 0.00222131510864581 0.002084857648477922; … ; 0.0016990850540399738 0.001849789994110569 … 0.10344323746852452 0.12033635533106725; 0.001596064398706203 0.0016990850540399738 … 0.08896412289743097 0.10344323746852452], [0.34572893124857307 0.31131955717655263 … 0.005088335126957007 0.005254121552299166; 0.31131955717655263 0.34572893124857307 … 0.004909875439662378 0.005088335126957007; … ; 0.005088335126957007 0.004909875439662378 … 0.34572893124857307 0.31131955717655263; 0.005254121552299166 0.005088335126957007 … 0.31131955717655263 0.34572893124857307])"
      ]
     },
     "metadata": {},
     "output_type": "display_data"
    }
   ],
   "source": [
    "σ_X₁², σ_X₂² = zeros(length(t)), zeros(length(t))\n",
    "Σ = BlockMatrix_from_cs(cs, t, t, σ_X₁², σ_X₂², f0, fM, J)\n"
   ]
  },
  {
   "cell_type": "code",
   "execution_count": 5,
   "metadata": {},
   "outputs": [],
   "source": [
    "sanity_checks(Σ)"
   ]
  },
  {
   "cell_type": "code",
   "execution_count": 6,
   "metadata": {},
   "outputs": [
    {
     "data": {
      "text/plain": [
       "([0.34723571516308926 0.0 … 0.0 0.0; 0.33692608030759025 0.083984869431257 … 0.0 0.0; … ; 0.0024569824046737736 -0.00019222153895354237 … 0.06318198231790434 0.0; 0.0025321371870324367 1.0698596257797622e-7 … 0.10521324484252159 0.06318161148347952], [0.2979049474214927 0.2377143553035603 … 0.00034720313392875825 0.00033353474043863084; 0.2562067178361719 0.2038523414449525 … 0.0005325121391976749 0.000385614139099571; … ; 0.0048931748084782975 0.002395095533187421 … 0.1688402381586053 0.19429974298500088; 0.0045964868503130946 0.0017909030209508584 … 0.1444298478140871 0.16884148660276127], [0.07972462904051697 0.0 … 0.0 0.0; -0.0009368471713101003 0.0789274864626453 … 0.0 0.0; … ; 0.0016629691531214695 0.002644906461531324 … 0.20142239553672267 0.0; 0.00159482249672254 0.0024269263455462798 … 0.17206464191466164 0.2157426250863336], [0.006356016475648041 -7.46897932003554e-5 … 0.00013257959883843182 0.0001271466319366756; -7.46897932003554e-5 0.006230425801933448 … 0.00020719787099039884 0.000190057091339145; … ; 0.00013257959883843182 0.00020719787099039884 … 0.19644466351767376 0.18239899199824325; 0.0001271466319366756 0.000190057091339145 … 0.18239899199824325 0.23419662641803973])"
      ]
     },
     "metadata": {},
     "output_type": "display_data"
    }
   ],
   "source": [
    "L₁₁, L₂₁, L₂₂,S = cholesky(Σ)"
   ]
  },
  {
   "cell_type": "code",
   "execution_count": null,
   "metadata": {},
   "outputs": [],
   "source": [
    "n_samples = 50\n",
    "y = randn(rng, length(t), 2,n_samples)\n",
    "y₁, y₂ = y[:,1,:], y[:,2,:]"
   ]
  },
  {
   "cell_type": "code",
   "execution_count": 41,
   "metadata": {},
   "outputs": [],
   "source": [
    "x₁_sim = [L₁₁ * y₁[:,i] for i in 1:n_samples];\n",
    "x₂_sim = [L₂₁ * y₁[:,i] + L₂₂ * y₂[:,i]  for i in 1:n_samples];"
   ]
  },
  {
   "cell_type": "code",
   "execution_count": null,
   "metadata": {},
   "outputs": [],
   "source": [
    "k = 1\n",
    "scatter(t,x₁_sim[k],label=\"1\", color=\"blue\",framestyle=:box,size=(900,600),xlabel=\"Time\",ylabel=\"Value\")\n",
    "plot!(t,x₁_sim[k],label=\"1\", color=\"blue\", linestyle=:dash)\n",
    "scatter!(t,x₂_sim[k],label=\"2\", color=\"red\")\n",
    "plot!(t,x₂_sim[k],label=\"2\", color=\"red\", linestyle=:dash)"
   ]
  },
  {
   "cell_type": "code",
   "execution_count": null,
   "metadata": {},
   "outputs": [],
   "source": [
    "f, γ², Δφ, γ²_err, Δφ_err, Δτ, Δτ_err, P̄₁, P̄₂, C̄ = cross_periodogram(t, mapreduce(permutedims,vcat,x₁_sim)', mapreduce(permutedims,vcat,x₂_sim)')"
   ]
  },
  {
   "cell_type": "code",
   "execution_count": null,
   "metadata": {},
   "outputs": [],
   "source": [
    "plot(f,P̄₁/length(f)/2,label=\"Periodogram P₁\",xscale=:log10,yscale=:log10)\n",
    "plot!(f,P̄₂/length(f)/2,xscale=:log10,yscale=:log10,label=\"Periodogram P₂\",xlabel=\"Frequency (d^-1)\",ylabel=\"Power\")\n",
    "plot!(f,p1(f),xscale=:log10,yscale=:log10,label=\"True Power spectrum 1\")\n",
    "plot!(f,p2(f),xscale=:log10,yscale=:log10,label=\"True Power spectrum 2\")"
   ]
  },
  {
   "cell_type": "code",
   "execution_count": null,
   "metadata": {},
   "outputs": [],
   "source": [
    "l = @layout [a; b]\n",
    "pl1 = scatter(f, γ², yerr=γ²_err, label=\"γ²\", xscale=:log10,ylims=(0,1.1),ms=4,ylabel=\"Coherence\",link=:x, framestyle=:box)\n",
    "pl1 = hline!([1.0],color=:black,label=\"True coherence\")\n",
    "pl2 = scatter(f, Δτ, yerr=Δτ_err, xscale=:log10, ylabel=\"Time delay (d)\",xlabel=\"Frequency (d^-1)\",link=:x, framestyle=:box,label=nothing)\n",
    "pl2 = hline!([-cs.Δφ.Δτ ],color=:black,label=\"True delay\")\n",
    "pl2 = vline!([1/cs.Δφ.Δτ ],color=:black,label=\"Limit frequency\")\n",
    "plot(pl1, pl2, layout=l,size=(800,600))"
   ]
  },
  {
   "cell_type": "code",
   "execution_count": null,
   "metadata": {},
   "outputs": [],
   "source": []
  }
 ],
 "metadata": {
  "kernelspec": {
   "display_name": "Julia 1.10.5",
   "language": "julia",
   "name": "julia-1.10"
  },
  "language_info": {
   "file_extension": ".jl",
   "mimetype": "application/julia",
   "name": "julia",
   "version": "1.10.5"
  }
 },
 "nbformat": 4,
 "nbformat_minor": 2
}
