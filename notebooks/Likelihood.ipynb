{
 "cells": [
  {
   "cell_type": "code",
   "execution_count": 1,
   "metadata": {},
   "outputs": [],
   "source": [
    "using Revise\n",
    "using LinearAlgebra\n",
    "using Tonari\n",
    "using Plots\n",
    "using Random\n",
    "using Meiran\n",
    "\n",
    "rng = MersenneTwister(1234);"
   ]
  },
  {
   "cell_type": "markdown",
   "metadata": {},
   "source": [
    "Define the power spectral densities for the two processes and the cross-spectral density between them "
   ]
  },
  {
   "cell_type": "code",
   "execution_count": 2,
   "metadata": {},
   "outputs": [
    {
     "data": {
      "text/plain": [
       "1000"
      ]
     },
     "metadata": {},
     "output_type": "display_data"
    }
   ],
   "source": [
    "p1 = SingleBendingPowerLaw(1.0, 0.30, 4e-2, 3.5)\n",
    "p2 = SingleBendingPowerLaw(1.0, 0.30, 4e-2, 3.5)\n",
    "Δϕ = ConstantTimeLag(5.4)\n",
    "cs = CrossSpectralDensity(p1, p2, Δϕ)\n",
    "\n",
    "T = 120.0\n",
    "Δt = 1.0\n",
    "t = 0.0:Δt:T-Δt\n",
    "S_low, S_high = 5, 5\n",
    "\n",
    "f0, fM = 1 / T / S_low, 1 / (2Δt) * S_high\n",
    "J = 1000"
   ]
  },
  {
   "cell_type": "code",
   "execution_count": 4,
   "metadata": {},
   "outputs": [],
   "source": [
    "σ_X₁², σ_X₂² = zeros(length(t)), zeros(length(t))\n",
    "Σ = BlockMatrix_from_cs(cs, t, σ_X₁², σ_X₂², f0, fM, J)\n",
    "sanity_checks(Σ)"
   ]
  },
  {
   "cell_type": "code",
   "execution_count": null,
   "metadata": {},
   "outputs": [],
   "source": [
    "L₁₁, L₂₁, L₂₂ = cholesky(Σ)"
   ]
  }
 ],
 "metadata": {
  "kernelspec": {
   "display_name": "Julia 1.10.5",
   "language": "julia",
   "name": "julia-1.10"
  },
  "language_info": {
   "file_extension": ".jl",
   "mimetype": "application/julia",
   "name": "julia",
   "version": "1.10.5"
  }
 },
 "nbformat": 4,
 "nbformat_minor": 2
}
