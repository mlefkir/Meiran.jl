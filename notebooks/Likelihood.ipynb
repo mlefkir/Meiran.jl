{
 "cells": [
  {
   "cell_type": "code",
   "execution_count": 1,
   "metadata": {},
   "outputs": [],
   "source": [
    "using Revise\n",
    "using LinearAlgebra\n",
    "using Tonari\n",
    "using Plots\n",
    "using Random\n",
    "using Meiran\n",
    "using Distributions\n",
    "using BenchmarkTools\n",
    "rng = MersenneTwister(1234);"
   ]
  },
  {
   "cell_type": "markdown",
   "metadata": {},
   "source": [
    "Define the power spectral densities for the two processes and the cross-spectral density between them "
   ]
  },
  {
   "cell_type": "code",
   "execution_count": 2,
   "metadata": {},
   "outputs": [
    {
     "data": {
      "text/plain": [
       "([0.0595778389003332, 0.006343410180129825, 0.03642499446488528, 0.0769950090480818, 0.004387484165350737, 0.010324941493221346, 0.008745348328058457, 0.0326914334759345, 0.024613094075391934, 0.0014161312298762675  …  0.01788697142903785, 0.005073070168824896, 0.024325456028034022, 0.02706423306696359, 0.024490945354815434, 0.006435819475766143, 0.011004091407632973, 0.0027098522819354845, 0.002035172328642939, 0.00145986170148586], [0.032333206607358805, 0.09139355387812492, 0.041710651449274834, 0.00490163919189618, 0.03285608234876701, 0.038613033567775415, 0.017817845612490706, 0.01413682407260681, 0.0487689161657269, 0.04461639814295404  …  0.009175733953240107, 0.008098299815197751, 0.01831407919981092, 0.01835405711888537, 0.048026313134803995, 0.10073939922700471, 0.10892009238493333, 0.11665484669154447, 0.03964350292618359, 0.06855726531906445])"
      ]
     },
     "metadata": {},
     "output_type": "display_data"
    }
   ],
   "source": [
    "# p1 = SingleBendingPowerLaw(1.0, 0.30, 4e-2, 3.5)\n",
    "# p2 = SingleBendingPowerLaw(1.0, 0.30, 4e-2, 3.5)\n",
    "# Δϕ = ConstantTimeLag(5.4)\n",
    "# cs = CrossSpectralDensity(p1, p2, Δϕ)\n",
    "\n",
    "# T = 120.0\n",
    "# Δt = 1.0\n",
    "p1 = SingleBendingPowerLaw(1.0, 0.30, 4e-2, 3.5)\n",
    "p2 = SingleBendingPowerLaw(1.0, 0.550, 8e-2, 2.95)\n",
    "Δϕ = ConstantTimeLag(5.4)\n",
    "cs = CrossSpectralDensity(p1, p2, Δϕ)\n",
    "\n",
    "T = 100.0\n",
    "Δt = 1.0\n",
    "\n",
    "simu = Simulation(cs, T, Δt)\n",
    "t, x, xerr = sample(rng,simu,1,error_size=0.1)\n",
    "x₁,x₂ = x[1][:],x[2][:]\n",
    "σ_x₁, σ_x₂ = xerr[1][:], xerr[2][:]\n",
    "\n",
    "# scatter(t,x₁,yerr=σ_x₁,label=\"X₁\")\n",
    "# scatter!(t,x₂,yerr=σ_x₂,label=\"X₂\")"
   ]
  },
  {
   "cell_type": "code",
   "execution_count": 3,
   "metadata": {},
   "outputs": [],
   "source": [
    "# using DelimitedFiles\n",
    "# writedlm(\"data.txt\", [t x₁ x₂ σ_x₁ σ_x₂])\n",
    "# mean(x₁), mean(x₂), var(x₁), var(x₂)\n"
   ]
  },
  {
   "cell_type": "code",
   "execution_count": 4,
   "metadata": {},
   "outputs": [
    {
     "data": {
      "text/plain": [
       "100"
      ]
     },
     "metadata": {},
     "output_type": "display_data"
    }
   ],
   "source": [
    "S_low, S_high = 5, 5\n",
    "f0, fM = 1 / T / S_low, 1 / (2Δt) * S_high\n",
    "J = 100"
   ]
  },
  {
   "cell_type": "code",
   "execution_count": 5,
   "metadata": {},
   "outputs": [
    {
     "data": {
      "text/plain": [
       "approximate_cross_spectral_density! (generic function with 1 method)"
      ]
     },
     "metadata": {},
     "output_type": "display_data"
    }
   ],
   "source": [
    "function approximate_cross_spectral_density!(\n",
    "\tωⱼ::AbstractVector{Float64},\n",
    "\tzⱼ::AbstractVector{Float64},\n",
    "\ta_𝓟₁::AbstractVector{Float64},\n",
    "\ta_𝓟₂::AbstractVector{Float64},\n",
    "\ta_𝓒₁₂::AbstractVector{Float64},\n",
    "\ta_τ::AbstractVector{Float64},\n",
    "\tcs::CrossSpectralDensity,\n",
    "\tf0::Float64,\n",
    "\tfM::Float64,\n",
    "\tJ::Int64,\n",
    ")\n",
    "\t# first basis function centred at 0.\n",
    "\tωⱼ[1] = 2 * f0#fⱼ[1]\n",
    "\tzⱼ[1] = 0.0\n",
    "\n",
    "\tq = (fM / f0)^(1.0 / (J - 1))\n",
    "\t# remaining basis functions\n",
    "\tfor j in 2:J\n",
    "\t\tfⱼ, fⱼ₋₁ = f0 * q^(j - 1), f0 * q^(j - 2)\n",
    "\t\tωⱼ[j] = fⱼ - fⱼ₋₁\n",
    "\t\tzⱼ[j] = fⱼ₋₁ + ωⱼ[j] / 2\n",
    "\tend\n",
    "\n",
    "\ta_𝓟₁[1] = cs.𝓟₁(f0) \n",
    "\ta_𝓟₂[1] = cs.𝓟₂(f0)  \n",
    "\ta_𝓒₁₂[1] = √a_𝓟₁[1] * √a_𝓟₂[1]\n",
    "\ta_τ[1] = cs.Δφ(f0)\n",
    " \n",
    "\n",
    "\tzv = zⱼ[2:J]\n",
    "\ta_𝓟₁[2:end] = cs.𝓟₁.(zv)\n",
    "\ta_𝓟₂[2:end] = cs.𝓟₂.(zv)\n",
    "\ta_𝓒₁₂[2:end] = @. √a_𝓟₁[2:end] * √a_𝓟₂[2:end]\n",
    "\ta_τ[2:end] = cs.Δφ(zv)\n",
    "end\n",
    "# function approximated_covariance2(τ::Float64, aⱼ::AbstractVector{Float64}, ωⱼ::AbstractVector{Float64}, zⱼ::AbstractVector{Float64}, J::Int64)\n",
    "# \tR = aⱼ[1] * ωⱼ[1] * cos(2π * zⱼ[1] * τ) * sinc(ωⱼ[1] * τ)\n",
    "# \tfor j in 2:J\n",
    "# \t\tR += 2aⱼ[j] * ωⱼ[j] * cos(2π * zⱼ[j] * τ) * sinc(ωⱼ[j] * τ)\n",
    "# \tend\n",
    "# \treturn R\n",
    "# end\n",
    "# function approximated_cross_covariance2(τ::Float64, aⱼ::AbstractVector{Float64}, τⱼ::AbstractVector{Float64}, ωⱼ::AbstractVector{Float64}, zⱼ::AbstractVector{Float64}, J::Int64)\n",
    "# \tR = aⱼ[1] * ωⱼ[1] * cos(2π * zⱼ[1] * (τ + τⱼ[1])) * sinc(ωⱼ[1] * (τ + τⱼ[1]))\n",
    "# \tfor j in 2:J\n",
    "# \t\tR += 2aⱼ[j] * ωⱼ[j] * cos(2π * zⱼ[j] * (τ + τⱼ[j])) * sinc(ωⱼ[j] * (τ + τⱼ[j]))\n",
    "# \tend\n",
    "# \treturn R\n",
    "# end"
   ]
  },
  {
   "cell_type": "code",
   "execution_count": 6,
   "metadata": {},
   "outputs": [
    {
     "data": {
      "text/plain": [
       "BlockMatrix_from_cs_2 (generic function with 1 method)"
      ]
     },
     "metadata": {},
     "output_type": "display_data"
    }
   ],
   "source": [
    "function BlockMatrix_from_cs(cs::CrossSpectralDensity, t₁::Vector{Float64}, t₂::Vector{Float64}, σ_X₁²::Vector{Float64}, σ_X₂²::Vector{Float64}, f0::Float64, fM::Float64, J::Int64)\n",
    "\n",
    "\tωⱼ = Vector{Float64}(undef, J)\n",
    "\tzⱼ = Vector{Float64}(undef, J)\n",
    "\n",
    "\ta_𝓟₁ = Vector{Float64}(undef, J)\n",
    "\ta_𝓟₂ = Vector{Float64}(undef, J)\n",
    "\ta_𝓒₁₂ = Vector{Float64}(undef, J)\n",
    "\ta_τ = Vector{Float64}(undef, J)\n",
    "\n",
    "\tapproximate_cross_spectral_density!(ωⱼ, zⱼ, a_𝓟₁, a_𝓟₂, a_𝓒₁₂, a_τ, cs, f0, fM, J)\n",
    "\n",
    "\tΣ₁₁ = Matrix{Float64}(undef, length(t₁), length(t₁))\n",
    "\tΣ₂₂ = Matrix{Float64}(undef, length(t₂), length(t₂))\n",
    "\tΣ₂₁ = Matrix{Float64}(undef, length(t₂), length(t₁))\n",
    "\n",
    "\tfor (i, t₁ᵢ) in enumerate(t₁)\n",
    "\t\tfor (j, t₁ⱼ) in enumerate(t₁)\n",
    "\t\t\tΣ₁₁[i, j] = approximated_covariance(t₁ᵢ - t₁ⱼ, a_𝓟₁, ωⱼ, zⱼ, J)\n",
    "\t\t\tif i == j\n",
    "\t\t\t\tΣ₁₁[i, j] += σ_X₁²[i]\n",
    "\t\t\tend\n",
    "\t\tend\n",
    "\tend\n",
    "\n",
    "\tfor (i, t₂ᵢ) in enumerate(t₂)\n",
    "\t\tfor (j, t₂ⱼ) in enumerate(t₂)\n",
    "\t\t\tΣ₂₂[i, j] = approximated_covariance(t₂ᵢ - t₂ⱼ, a_𝓟₂, ωⱼ, zⱼ, J)\n",
    "\t\t\tif i == j\n",
    "\t\t\t\tΣ₂₂[i, j] += σ_X₂²[i]\n",
    "\t\t\tend\n",
    "\t\tend\n",
    "\t\tfor (j, t₁ⱼ) in enumerate(t₁)\n",
    "\t\t\tΣ₂₁[i, j] = approximated_cross_covariance(t₂ᵢ - t₁ⱼ, a_𝓒₁₂, a_τ, ωⱼ, zⱼ, J)\n",
    "\t\tend\n",
    "\tend\n",
    "\treturn BlockCovarianceMatrix(Symmetric(Σ₁₁), Σ₂₁, Symmetric(Σ₂₂))\n",
    "end"
   ]
  },
  {
   "cell_type": "code",
   "execution_count": 8,
   "metadata": {},
   "outputs": [
    {
     "data": {
      "text/plain": [
       "([0.17911595983604425 0.1159581957570659 … 0.0010335621265043034 0.0010283002356108156; 0.1159581957570659 0.12588153111584088 … 0.001054899757055121 0.0010335621265043034; … ; 0.0010335621265043034 0.001054899757055121 … 0.121573293264354 0.1159581957570659; 0.0010283002356108156 0.0010335621265043034 … 0.1159581957570659 0.12099798263719692], [0.10079062681121077 0.11768475560954224 … 0.0030826486690696546 0.003060593414510549; 0.08631097779534654 0.10079062681121077 … 0.003083550301481846 0.0030826486690696546; … ; 0.002164422765559585 0.0023303892803396837 … 0.10079062681121077 0.11768475560954224; 0.002078031251877148 0.002164422765559585 … 0.08631097779534654 0.10079062681121077], [0.37187866401821246 0.3051347583273216 … 0.005725148990888024 0.005753945500846771; 0.3051347583273216 0.4309390112889786 … 0.00580798750208375 0.005725148990888024; … ; 0.005725148990888024 0.00580798750208375 … 0.37918896033703725 0.3051347583273216; 0.005753945500846771 0.005725148990888024 … 0.3051347583273216 0.4081027227299181])"
      ]
     },
     "metadata": {},
     "output_type": "display_data"
    }
   ],
   "source": [
    "Σ = BlockMatrix_from_cs(cs, t,t, σ_x₁, σ_x₂, f0, fM, J)\n",
    "Σ₁₁, Σ₂₁, Σ₂₂ = Σ.Σ₁₁, Σ.Σ₂₁, Σ.Σ₂₂"
   ]
  },
  {
   "cell_type": "code",
   "execution_count": 10,
   "metadata": {},
   "outputs": [],
   "source": [
    "Σ = BlockMatrix_from_cs(cs, t,t, σ_x₁, σ_x₂, f0, fM, J)\n",
    "Σ₁₁, Σ₂₁, Σ₂₂ = Σ.Σ₁₁, Σ.Σ₂₁, Σ.Σ₂₂\n",
    "sanity_checks(Σ)\n",
    "Σ₂ = BlockMatrix_from_cs_2(cs, t, t, σ_x₁, σ_x₂, f0, fM, J)\n",
    "Σ₁₁₂, Σ₂₁₂, Σ₂₂₂ = Σ₂.Σ₁₁, Σ₂.Σ₂₁, Σ₂.Σ₂₂\n",
    "@assert Σ₁₁ ≈ Σ₁₁₂ && Σ₂₁ ≈ Σ₂₁₂ && Σ₂₂ ≈ Σ₂₂₂ \"Error 2\"\n",
    "sanity_checks(Σ₂)"
   ]
  },
  {
   "cell_type": "code",
   "execution_count": 11,
   "metadata": {},
   "outputs": [
    {
     "data": {
      "text/plain": [
       "BenchmarkTools.Trial: 119 samples with 1 evaluation.\n",
       " Range \u001b[90m(\u001b[39m\u001b[36m\u001b[1mmin\u001b[22m\u001b[39m … \u001b[35mmax\u001b[39m\u001b[90m):  \u001b[39m\u001b[36m\u001b[1m40.518 ms\u001b[22m\u001b[39m … \u001b[35m59.045 ms\u001b[39m  \u001b[90m┊\u001b[39m GC \u001b[90m(\u001b[39mmin … max\u001b[90m): \u001b[39m0.00% … 0.00%\n",
       " Time  \u001b[90m(\u001b[39m\u001b[34m\u001b[1mmedian\u001b[22m\u001b[39m\u001b[90m):     \u001b[39m\u001b[34m\u001b[1m41.590 ms              \u001b[22m\u001b[39m\u001b[90m┊\u001b[39m GC \u001b[90m(\u001b[39mmedian\u001b[90m):    \u001b[39m0.00%\n",
       " Time  \u001b[90m(\u001b[39m\u001b[32m\u001b[1mmean\u001b[22m\u001b[39m ± \u001b[32mσ\u001b[39m\u001b[90m):   \u001b[39m\u001b[32m\u001b[1m41.999 ms\u001b[22m\u001b[39m ± \u001b[32m 1.932 ms\u001b[39m  \u001b[90m┊\u001b[39m GC \u001b[90m(\u001b[39mmean ± σ\u001b[90m):  \u001b[39m0.00% ± 0.00%\n",
       "\n",
       "  \u001b[39m \u001b[39m \u001b[39m \u001b[39m \u001b[39m \u001b[39m█\u001b[39m█\u001b[34m▄\u001b[39m\u001b[39m▃\u001b[39m▁\u001b[32m \u001b[39m\u001b[39m \u001b[39m \u001b[39m \u001b[39m \u001b[39m \u001b[39m \u001b[39m \u001b[39m \u001b[39m \u001b[39m \u001b[39m \u001b[39m \u001b[39m \u001b[39m \u001b[39m \u001b[39m \u001b[39m \u001b[39m \u001b[39m \u001b[39m \u001b[39m \u001b[39m \u001b[39m \u001b[39m \u001b[39m \u001b[39m \u001b[39m \u001b[39m \u001b[39m \u001b[39m \u001b[39m \u001b[39m \u001b[39m \u001b[39m \u001b[39m \u001b[39m \u001b[39m \u001b[39m \u001b[39m \u001b[39m \u001b[39m \u001b[39m \u001b[39m \u001b[39m \u001b[39m \u001b[39m \u001b[39m \u001b[39m \u001b[39m \u001b[39m \n",
       "  \u001b[39m▅\u001b[39m▃\u001b[39m▃\u001b[39m█\u001b[39m▅\u001b[39m█\u001b[39m█\u001b[34m█\u001b[39m\u001b[39m█\u001b[39m█\u001b[32m▆\u001b[39m\u001b[39m▆\u001b[39m▅\u001b[39m▃\u001b[39m▁\u001b[39m▄\u001b[39m▃\u001b[39m▄\u001b[39m▃\u001b[39m▃\u001b[39m▁\u001b[39m▁\u001b[39m▃\u001b[39m▃\u001b[39m▁\u001b[39m▃\u001b[39m▁\u001b[39m▃\u001b[39m▁\u001b[39m▁\u001b[39m▁\u001b[39m▁\u001b[39m▃\u001b[39m▁\u001b[39m▁\u001b[39m▃\u001b[39m▁\u001b[39m▁\u001b[39m▃\u001b[39m▁\u001b[39m▁\u001b[39m▁\u001b[39m▁\u001b[39m▁\u001b[39m▁\u001b[39m▁\u001b[39m▁\u001b[39m▁\u001b[39m▁\u001b[39m▁\u001b[39m▁\u001b[39m▁\u001b[39m▁\u001b[39m▁\u001b[39m▁\u001b[39m▁\u001b[39m▁\u001b[39m▁\u001b[39m▃\u001b[39m \u001b[39m▃\n",
       "  40.5 ms\u001b[90m         Histogram: frequency by time\u001b[39m        48.9 ms \u001b[0m\u001b[1m<\u001b[22m\n",
       "\n",
       " Memory estimate\u001b[90m: \u001b[39m\u001b[33m246.72 KiB\u001b[39m, allocs estimate\u001b[90m: \u001b[39m\u001b[33m45\u001b[39m."
      ]
     },
     "metadata": {},
     "output_type": "display_data"
    }
   ],
   "source": [
    "@benchmark BlockMatrix_from_cs_3(cs, t, t, σ_x₁, σ_x₂, f0, fM, J)"
   ]
  },
  {
   "cell_type": "code",
   "execution_count": 12,
   "metadata": {},
   "outputs": [
    {
     "data": {
      "text/plain": [
       "BenchmarkTools.Trial: 120 samples with 1 evaluation.\n",
       " Range \u001b[90m(\u001b[39m\u001b[36m\u001b[1mmin\u001b[22m\u001b[39m … \u001b[35mmax\u001b[39m\u001b[90m):  \u001b[39m\u001b[36m\u001b[1m40.971 ms\u001b[22m\u001b[39m … \u001b[35m 45.248 ms\u001b[39m  \u001b[90m┊\u001b[39m GC \u001b[90m(\u001b[39mmin … max\u001b[90m): \u001b[39m0.00% … 0.00%\n",
       " Time  \u001b[90m(\u001b[39m\u001b[34m\u001b[1mmedian\u001b[22m\u001b[39m\u001b[90m):     \u001b[39m\u001b[34m\u001b[1m41.786 ms               \u001b[22m\u001b[39m\u001b[90m┊\u001b[39m GC \u001b[90m(\u001b[39mmedian\u001b[90m):    \u001b[39m0.00%\n",
       " Time  \u001b[90m(\u001b[39m\u001b[32m\u001b[1mmean\u001b[22m\u001b[39m ± \u001b[32mσ\u001b[39m\u001b[90m):   \u001b[39m\u001b[32m\u001b[1m41.883 ms\u001b[22m\u001b[39m ± \u001b[32m624.170 μs\u001b[39m  \u001b[90m┊\u001b[39m GC \u001b[90m(\u001b[39mmean ± σ\u001b[90m):  \u001b[39m0.00% ± 0.00%\n",
       "\n",
       "  \u001b[39m \u001b[39m \u001b[39m \u001b[39m \u001b[39m \u001b[39m▂\u001b[39m \u001b[39m \u001b[39m \u001b[39m█\u001b[39m▂\u001b[39m \u001b[39m \u001b[39m▁\u001b[39m \u001b[39m▁\u001b[34m▄\u001b[39m\u001b[39m \u001b[32m \u001b[39m\u001b[39m▁\u001b[39m▁\u001b[39m \u001b[39m \u001b[39m \u001b[39m \u001b[39m \u001b[39m \u001b[39m \u001b[39m \u001b[39m \u001b[39m \u001b[39m \u001b[39m \u001b[39m \u001b[39m \u001b[39m \u001b[39m \u001b[39m \u001b[39m \u001b[39m \u001b[39m \u001b[39m \u001b[39m \u001b[39m \u001b[39m \u001b[39m \u001b[39m \u001b[39m \u001b[39m \u001b[39m \u001b[39m \u001b[39m \u001b[39m \u001b[39m \u001b[39m \u001b[39m \u001b[39m \u001b[39m \u001b[39m \u001b[39m \u001b[39m \u001b[39m \n",
       "  \u001b[39m▃\u001b[39m▃\u001b[39m▃\u001b[39m▅\u001b[39m▅\u001b[39m█\u001b[39m█\u001b[39m█\u001b[39m█\u001b[39m█\u001b[39m█\u001b[39m█\u001b[39m▆\u001b[39m█\u001b[39m▃\u001b[39m█\u001b[34m█\u001b[39m\u001b[39m█\u001b[32m▆\u001b[39m\u001b[39m█\u001b[39m█\u001b[39m█\u001b[39m▆\u001b[39m▃\u001b[39m▆\u001b[39m▅\u001b[39m▅\u001b[39m█\u001b[39m▃\u001b[39m▅\u001b[39m▁\u001b[39m▃\u001b[39m▁\u001b[39m█\u001b[39m▅\u001b[39m▁\u001b[39m▃\u001b[39m▃\u001b[39m▁\u001b[39m▃\u001b[39m▁\u001b[39m▁\u001b[39m▁\u001b[39m▁\u001b[39m▃\u001b[39m▁\u001b[39m▁\u001b[39m▃\u001b[39m▁\u001b[39m▃\u001b[39m▁\u001b[39m▁\u001b[39m▁\u001b[39m▁\u001b[39m▁\u001b[39m▁\u001b[39m▁\u001b[39m▁\u001b[39m▁\u001b[39m▃\u001b[39m \u001b[39m▃\n",
       "  41 ms\u001b[90m           Histogram: frequency by time\u001b[39m           44 ms \u001b[0m\u001b[1m<\u001b[22m\n",
       "\n",
       " Memory estimate\u001b[90m: \u001b[39m\u001b[33m246.69 KiB\u001b[39m, allocs estimate\u001b[90m: \u001b[39m\u001b[33m43\u001b[39m."
      ]
     },
     "metadata": {},
     "output_type": "display_data"
    }
   ],
   "source": [
    "@benchmark BlockMatrix_from_cs_2(cs, t, t, σ_x₁, σ_x₂, f0, fM, J)"
   ]
  },
  {
   "cell_type": "code",
   "execution_count": 13,
   "metadata": {},
   "outputs": [
    {
     "data": {
      "text/plain": [
       "BenchmarkTools.Trial: 117 samples with 1 evaluation.\n",
       " Range \u001b[90m(\u001b[39m\u001b[36m\u001b[1mmin\u001b[22m\u001b[39m … \u001b[35mmax\u001b[39m\u001b[90m):  \u001b[39m\u001b[36m\u001b[1m39.112 ms\u001b[22m\u001b[39m … \u001b[35m67.295 ms\u001b[39m  \u001b[90m┊\u001b[39m GC \u001b[90m(\u001b[39mmin … max\u001b[90m): \u001b[39m1.75% … 1.23%\n",
       " Time  \u001b[90m(\u001b[39m\u001b[34m\u001b[1mmedian\u001b[22m\u001b[39m\u001b[90m):     \u001b[39m\u001b[34m\u001b[1m42.032 ms              \u001b[22m\u001b[39m\u001b[90m┊\u001b[39m GC \u001b[90m(\u001b[39mmedian\u001b[90m):    \u001b[39m1.75%\n",
       " Time  \u001b[90m(\u001b[39m\u001b[32m\u001b[1mmean\u001b[22m\u001b[39m ± \u001b[32mσ\u001b[39m\u001b[90m):   \u001b[39m\u001b[32m\u001b[1m42.857 ms\u001b[22m\u001b[39m ± \u001b[32m 4.506 ms\u001b[39m  \u001b[90m┊\u001b[39m GC \u001b[90m(\u001b[39mmean ± σ\u001b[90m):  \u001b[39m1.93% ± 1.11%\n",
       "\n",
       "  \u001b[39m▁\u001b[39m▂\u001b[39m \u001b[39m▄\u001b[39m \u001b[39m▇\u001b[39m \u001b[34m█\u001b[39m\u001b[39m▄\u001b[32m▁\u001b[39m\u001b[39m \u001b[39m \u001b[39m \u001b[39m \u001b[39m \u001b[39m \u001b[39m \u001b[39m \u001b[39m \u001b[39m \u001b[39m \u001b[39m \u001b[39m \u001b[39m \u001b[39m \u001b[39m \u001b[39m \u001b[39m \u001b[39m \u001b[39m \u001b[39m \u001b[39m \u001b[39m \u001b[39m \u001b[39m \u001b[39m \u001b[39m \u001b[39m \u001b[39m \u001b[39m \u001b[39m \u001b[39m \u001b[39m \u001b[39m \u001b[39m \u001b[39m \u001b[39m \u001b[39m \u001b[39m \u001b[39m \u001b[39m \u001b[39m \u001b[39m \u001b[39m \u001b[39m \u001b[39m \u001b[39m \u001b[39m \u001b[39m \u001b[39m \u001b[39m \n",
       "  \u001b[39m█\u001b[39m█\u001b[39m▆\u001b[39m█\u001b[39m█\u001b[39m█\u001b[39m▆\u001b[34m█\u001b[39m\u001b[39m█\u001b[32m█\u001b[39m\u001b[39m▇\u001b[39m▄\u001b[39m▇\u001b[39m▃\u001b[39m▄\u001b[39m▆\u001b[39m▁\u001b[39m▃\u001b[39m▁\u001b[39m▃\u001b[39m▁\u001b[39m▃\u001b[39m▃\u001b[39m▁\u001b[39m▁\u001b[39m▃\u001b[39m▁\u001b[39m▁\u001b[39m▁\u001b[39m▁\u001b[39m▁\u001b[39m▁\u001b[39m▁\u001b[39m▁\u001b[39m▁\u001b[39m▁\u001b[39m▁\u001b[39m▁\u001b[39m▃\u001b[39m▁\u001b[39m▁\u001b[39m▁\u001b[39m▁\u001b[39m▁\u001b[39m▁\u001b[39m▁\u001b[39m▁\u001b[39m▁\u001b[39m▁\u001b[39m▁\u001b[39m▁\u001b[39m▁\u001b[39m▁\u001b[39m▁\u001b[39m▁\u001b[39m▁\u001b[39m▃\u001b[39m▁\u001b[39m▄\u001b[39m \u001b[39m▃\n",
       "  39.1 ms\u001b[90m         Histogram: frequency by time\u001b[39m        62.6 ms \u001b[0m\u001b[1m<\u001b[22m\n",
       "\n",
       " Memory estimate\u001b[90m: \u001b[39m\u001b[33m46.12 MiB\u001b[39m, allocs estimate\u001b[90m: \u001b[39m\u001b[33m1248\u001b[39m."
      ]
     },
     "metadata": {},
     "output_type": "display_data"
    }
   ],
   "source": [
    "@benchmark BlockMatrix_from_cs(cs, t, t, σ_x₁, σ_x₂, f0, fM, J)  "
   ]
  },
  {
   "cell_type": "code",
   "execution_count": null,
   "metadata": {},
   "outputs": [],
   "source": []
  },
  {
   "cell_type": "code",
   "execution_count": null,
   "metadata": {},
   "outputs": [],
   "source": []
  },
  {
   "cell_type": "code",
   "execution_count": null,
   "metadata": {},
   "outputs": [],
   "source": [
    "# function get_chi2term(L₁₁::LowerTriangular{Float64,Array{Float64,2}}, L₂₁::Array{Float64,2}, L₂₂::LowerTriangular{Float64,Array{Float64,2}}, Σ₂₁::Array{Float64,2}, x₁::Vector{Float64}, x₂::Vector{Float64})\n",
    "# \tz₁ = L₁₁ \\ x₁\n",
    "# \tw = L₂₂ \\ x₂\n",
    "# \tv = L₁₁' \\ z₁\n",
    "# \tg = Σ₂₁ * v\n",
    "# \tu = L₂₂ \\ g\n",
    "# \tz₂ = w - u\n",
    "# \t# return z₁, z₂\n",
    "# \treturn z₁' * z₁ + z₂' * z₂\n",
    "# end\n",
    "# function log_likelihood(cs::CrossSpectralDensity, t₁::Vector{Float64}, t₂::Vector{Float64}, x₁::Vector{Float64}, x₂::Vector{Float64}, σ_X₁²::Vector{Float64}, σ_X₂²::Vector{Float64}, f0::Float64, fM::Float64, J::Int)\n",
    "\n",
    "# \tΣ = BlockMatrix_from_cs(cs, t₁, t₂, σ_X₁², σ_X₂², f0, fM, J)\n",
    "# \tL₁₁, L₂₁, L₂₂, schur = cholesky(Σ)\n",
    "\n",
    "# \treturn -0.5 * get_chi2term(L₁₁, L₂₁, L₂₂, Σ₂₁, x₁, x₂) - 0.5 * (logdet(Σ₁₁) + logdet(schur))\n",
    "# end\n",
    "log_likelihood(cs, t, t, x₁, x₂, σ_x₁.^2, σ_x₂.^2, f0, fM, J)"
   ]
  },
  {
   "cell_type": "code",
   "execution_count": null,
   "metadata": {},
   "outputs": [],
   "source": [
    "@benchmark log_likelihood(cs, t, t, x₁, x₂, σ_x₁, σ_x₂, f0, fM, J)"
   ]
  },
  {
   "cell_type": "code",
   "execution_count": 9,
   "metadata": {},
   "outputs": [],
   "source": [
    "using ProfileView"
   ]
  },
  {
   "cell_type": "code",
   "execution_count": null,
   "metadata": {},
   "outputs": [],
   "source": [
    "ProfileView.@profview log_likelihood(cs, t, t, x₁, x₂, σ_x₁, σ_x₂, f0, fM, J)"
   ]
  },
  {
   "cell_type": "code",
   "execution_count": 6,
   "metadata": {},
   "outputs": [],
   "source": [
    "using BenchmarkTools"
   ]
  },
  {
   "cell_type": "code",
   "execution_count": null,
   "metadata": {},
   "outputs": [],
   "source": [
    "@benchmark log_likelihood(cs, t, t, x₁, x₂, σ_x₁, σ_x₂, f0, fM, J)"
   ]
  },
  {
   "cell_type": "code",
   "execution_count": null,
   "metadata": {},
   "outputs": [],
   "source": []
  }
 ],
 "metadata": {
  "kernelspec": {
   "display_name": "Julia 1.10.5",
   "language": "julia",
   "name": "julia-1.10"
  },
  "language_info": {
   "file_extension": ".jl",
   "mimetype": "application/julia",
   "name": "julia",
   "version": "1.10.5"
  }
 },
 "nbformat": 4,
 "nbformat_minor": 2
}
